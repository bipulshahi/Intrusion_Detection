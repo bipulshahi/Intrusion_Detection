{
 "cells": [
  {
   "cell_type": "code",
   "execution_count": 1,
   "id": "113f2417-90c7-4a3f-879e-2cb9e56657d9",
   "metadata": {},
   "outputs": [],
   "source": [
    "import pandas as pd\n",
    "import glob\n",
    "import os\n",
    "from sklearn.model_selection import train_test_split\n",
    "from sklearn.preprocessing import LabelEncoder, StandardScaler\n",
    "from sklearn.ensemble import RandomForestClassifier\n",
    "from sklearn.metrics import classification_report, accuracy_score"
   ]
  },
  {
   "cell_type": "markdown",
   "id": "0a5bf33b-3eec-4a7c-9049-faf0812507a3",
   "metadata": {},
   "source": [
    "Benign-Monday-no-metadata.parquet → Normal traffic (no attack)\n",
    "\n",
    "Botnet-Friday-no-metadata.parquet → Botnet attacks\n",
    "\n",
    "Bruteforce-Tuesday-no-metadata.parquet → Brute force attacks (usually SSH/FTP brute force)\n",
    "\n",
    "DDoS-Friday-no-metadata.parquet → Distributed Denial of Service\n",
    "\n",
    "DoS-Wednesday-no-metadata.parquet → Denial of Service (single source)\n",
    "\n",
    "Infiltration-Thursday-no-metadata.parquet → Infiltration attacks (malware/backdoors)\n",
    "\n",
    "Portscan-Friday-no-metadata.parquet → Port scanning attacks\n",
    "\n",
    "WebAttacks-Thursday-no-metadata.parquet → Web attacks (SQL injection, XSS, Command injection, etc.)"
   ]
  },
  {
   "cell_type": "code",
   "execution_count": 2,
   "id": "dae581a8-9c85-4955-97f2-b21202d51187",
   "metadata": {},
   "outputs": [
    {
     "name": "stdout",
     "output_type": "stream",
     "text": [
      "Loading dataset...\n",
      "Combined dataset shape: (2313810, 79)\n"
     ]
    }
   ],
   "source": [
    "print(\"Loading dataset...\")\n",
    "\n",
    "data_path = \"C:/Users/vipul/Downloads/intrudtion\"  # update this with actual folder path\n",
    "\n",
    "# List of parquet files\n",
    "parquet_files = [\n",
    "    \"Benign-Monday-no-metadata.parquet\",\n",
    "    \"Botnet-Friday-no-metadata.parquet\",\n",
    "    \"Bruteforce-Tuesday-no-metadata.parquet\",\n",
    "    \"DDoS-Friday-no-metadata.parquet\",\n",
    "    \"DoS-Wednesday-no-metadata.parquet\",\n",
    "    \"Infiltration-Thursday-no-metadata.parquet\",\n",
    "    \"Portscan-Friday-no-metadata.parquet\",\n",
    "    \"WebAttacks-Thursday-no-metadata.parquet\"\n",
    "]\n",
    "\n",
    "# Load and label datasets\n",
    "dataframes = []\n",
    "for file in parquet_files:\n",
    "    file_path = os.path.join(data_path, file)\n",
    "    df = pd.read_parquet(file_path)\n",
    "\n",
    "    # Extract label from file name\n",
    "    label = file.split(\"-\")[0]  # e.g. \"Benign\", \"Botnet\", \"DDoS\"...\n",
    "    df[\"label\"] = label\n",
    "\n",
    "    dataframes.append(df)\n",
    "\n",
    "# Combine all datasets\n",
    "full_df = pd.concat(dataframes, ignore_index=True)\n",
    "print(\"Combined dataset shape:\", full_df.shape)"
   ]
  },
  {
   "cell_type": "code",
   "execution_count": 3,
   "id": "e303b7b4-05fb-4581-a944-19140722e90c",
   "metadata": {},
   "outputs": [
    {
     "name": "stdout",
     "output_type": "stream",
     "text": [
      "Preprocessing data...\n",
      "Missing values per column:\n",
      " Protocol                    0\n",
      "Flow Duration               0\n",
      "Total Fwd Packets           0\n",
      "Total Backward Packets      0\n",
      "Fwd Packets Length Total    0\n",
      "dtype: int64\n"
     ]
    }
   ],
   "source": [
    "print(\"Preprocessing data...\")\n",
    "\n",
    "# Drop duplicate rows\n",
    "full_df.drop_duplicates(inplace=True)\n",
    "\n",
    "# Handle missing values\n",
    "print(\"Missing values per column:\\n\", full_df.isnull().sum().sort_values(ascending=False).head())\n",
    "data = full_df.dropna()"
   ]
  },
  {
   "cell_type": "code",
   "execution_count": 4,
   "id": "23b8e3b6-9068-43b1-96e3-0586dccda6bc",
   "metadata": {},
   "outputs": [
    {
     "data": {
      "text/html": [
       "<div>\n",
       "<style scoped>\n",
       "    .dataframe tbody tr th:only-of-type {\n",
       "        vertical-align: middle;\n",
       "    }\n",
       "\n",
       "    .dataframe tbody tr th {\n",
       "        vertical-align: top;\n",
       "    }\n",
       "\n",
       "    .dataframe thead th {\n",
       "        text-align: right;\n",
       "    }\n",
       "</style>\n",
       "<table border=\"1\" class=\"dataframe\">\n",
       "  <thead>\n",
       "    <tr style=\"text-align: right;\">\n",
       "      <th></th>\n",
       "      <th>Protocol</th>\n",
       "      <th>Flow Duration</th>\n",
       "      <th>Total Fwd Packets</th>\n",
       "      <th>Total Backward Packets</th>\n",
       "      <th>Fwd Packets Length Total</th>\n",
       "      <th>Bwd Packets Length Total</th>\n",
       "      <th>Fwd Packet Length Max</th>\n",
       "      <th>Fwd Packet Length Min</th>\n",
       "      <th>Fwd Packet Length Mean</th>\n",
       "      <th>Fwd Packet Length Std</th>\n",
       "      <th>...</th>\n",
       "      <th>Active Mean</th>\n",
       "      <th>Active Std</th>\n",
       "      <th>Active Max</th>\n",
       "      <th>Active Min</th>\n",
       "      <th>Idle Mean</th>\n",
       "      <th>Idle Std</th>\n",
       "      <th>Idle Max</th>\n",
       "      <th>Idle Min</th>\n",
       "      <th>Label</th>\n",
       "      <th>label</th>\n",
       "    </tr>\n",
       "  </thead>\n",
       "  <tbody>\n",
       "    <tr>\n",
       "      <th>0</th>\n",
       "      <td>6</td>\n",
       "      <td>4</td>\n",
       "      <td>2</td>\n",
       "      <td>0</td>\n",
       "      <td>12</td>\n",
       "      <td>0</td>\n",
       "      <td>6</td>\n",
       "      <td>6</td>\n",
       "      <td>6.00000</td>\n",
       "      <td>0.000000</td>\n",
       "      <td>...</td>\n",
       "      <td>0.0</td>\n",
       "      <td>0.0</td>\n",
       "      <td>0</td>\n",
       "      <td>0</td>\n",
       "      <td>0.0</td>\n",
       "      <td>0.0</td>\n",
       "      <td>0</td>\n",
       "      <td>0</td>\n",
       "      <td>Benign</td>\n",
       "      <td>Benign</td>\n",
       "    </tr>\n",
       "    <tr>\n",
       "      <th>1</th>\n",
       "      <td>6</td>\n",
       "      <td>1</td>\n",
       "      <td>2</td>\n",
       "      <td>0</td>\n",
       "      <td>12</td>\n",
       "      <td>0</td>\n",
       "      <td>6</td>\n",
       "      <td>6</td>\n",
       "      <td>6.00000</td>\n",
       "      <td>0.000000</td>\n",
       "      <td>...</td>\n",
       "      <td>0.0</td>\n",
       "      <td>0.0</td>\n",
       "      <td>0</td>\n",
       "      <td>0</td>\n",
       "      <td>0.0</td>\n",
       "      <td>0.0</td>\n",
       "      <td>0</td>\n",
       "      <td>0</td>\n",
       "      <td>Benign</td>\n",
       "      <td>Benign</td>\n",
       "    </tr>\n",
       "    <tr>\n",
       "      <th>2</th>\n",
       "      <td>6</td>\n",
       "      <td>3</td>\n",
       "      <td>2</td>\n",
       "      <td>0</td>\n",
       "      <td>12</td>\n",
       "      <td>0</td>\n",
       "      <td>6</td>\n",
       "      <td>6</td>\n",
       "      <td>6.00000</td>\n",
       "      <td>0.000000</td>\n",
       "      <td>...</td>\n",
       "      <td>0.0</td>\n",
       "      <td>0.0</td>\n",
       "      <td>0</td>\n",
       "      <td>0</td>\n",
       "      <td>0.0</td>\n",
       "      <td>0.0</td>\n",
       "      <td>0</td>\n",
       "      <td>0</td>\n",
       "      <td>Benign</td>\n",
       "      <td>Benign</td>\n",
       "    </tr>\n",
       "    <tr>\n",
       "      <th>3</th>\n",
       "      <td>6</td>\n",
       "      <td>1</td>\n",
       "      <td>2</td>\n",
       "      <td>0</td>\n",
       "      <td>12</td>\n",
       "      <td>0</td>\n",
       "      <td>6</td>\n",
       "      <td>6</td>\n",
       "      <td>6.00000</td>\n",
       "      <td>0.000000</td>\n",
       "      <td>...</td>\n",
       "      <td>0.0</td>\n",
       "      <td>0.0</td>\n",
       "      <td>0</td>\n",
       "      <td>0</td>\n",
       "      <td>0.0</td>\n",
       "      <td>0.0</td>\n",
       "      <td>0</td>\n",
       "      <td>0</td>\n",
       "      <td>Benign</td>\n",
       "      <td>Benign</td>\n",
       "    </tr>\n",
       "    <tr>\n",
       "      <th>4</th>\n",
       "      <td>6</td>\n",
       "      <td>609</td>\n",
       "      <td>7</td>\n",
       "      <td>4</td>\n",
       "      <td>484</td>\n",
       "      <td>414</td>\n",
       "      <td>233</td>\n",
       "      <td>0</td>\n",
       "      <td>69.14286</td>\n",
       "      <td>111.967896</td>\n",
       "      <td>...</td>\n",
       "      <td>0.0</td>\n",
       "      <td>0.0</td>\n",
       "      <td>0</td>\n",
       "      <td>0</td>\n",
       "      <td>0.0</td>\n",
       "      <td>0.0</td>\n",
       "      <td>0</td>\n",
       "      <td>0</td>\n",
       "      <td>Benign</td>\n",
       "      <td>Benign</td>\n",
       "    </tr>\n",
       "  </tbody>\n",
       "</table>\n",
       "<p>5 rows × 79 columns</p>\n",
       "</div>"
      ],
      "text/plain": [
       "   Protocol  Flow Duration  Total Fwd Packets  Total Backward Packets  \\\n",
       "0         6              4                  2                       0   \n",
       "1         6              1                  2                       0   \n",
       "2         6              3                  2                       0   \n",
       "3         6              1                  2                       0   \n",
       "4         6            609                  7                       4   \n",
       "\n",
       "   Fwd Packets Length Total  Bwd Packets Length Total  Fwd Packet Length Max  \\\n",
       "0                        12                         0                      6   \n",
       "1                        12                         0                      6   \n",
       "2                        12                         0                      6   \n",
       "3                        12                         0                      6   \n",
       "4                       484                       414                    233   \n",
       "\n",
       "   Fwd Packet Length Min  Fwd Packet Length Mean  Fwd Packet Length Std  ...  \\\n",
       "0                      6                 6.00000               0.000000  ...   \n",
       "1                      6                 6.00000               0.000000  ...   \n",
       "2                      6                 6.00000               0.000000  ...   \n",
       "3                      6                 6.00000               0.000000  ...   \n",
       "4                      0                69.14286             111.967896  ...   \n",
       "\n",
       "   Active Mean  Active Std  Active Max  Active Min  Idle Mean  Idle Std  \\\n",
       "0          0.0         0.0           0           0        0.0       0.0   \n",
       "1          0.0         0.0           0           0        0.0       0.0   \n",
       "2          0.0         0.0           0           0        0.0       0.0   \n",
       "3          0.0         0.0           0           0        0.0       0.0   \n",
       "4          0.0         0.0           0           0        0.0       0.0   \n",
       "\n",
       "   Idle Max  Idle Min   Label   label  \n",
       "0         0         0  Benign  Benign  \n",
       "1         0         0  Benign  Benign  \n",
       "2         0         0  Benign  Benign  \n",
       "3         0         0  Benign  Benign  \n",
       "4         0         0  Benign  Benign  \n",
       "\n",
       "[5 rows x 79 columns]"
      ]
     },
     "execution_count": 4,
     "metadata": {},
     "output_type": "execute_result"
    }
   ],
   "source": [
    "data.head()"
   ]
  },
  {
   "cell_type": "code",
   "execution_count": 5,
   "id": "8788a470-4952-47b5-a3bb-0c9b7b7d1c22",
   "metadata": {},
   "outputs": [
    {
     "data": {
      "text/plain": [
       "Label\n",
       "Benign                        1977318\n",
       "DoS Hulk                       172846\n",
       "DDoS                           128014\n",
       "DoS GoldenEye                   10286\n",
       "FTP-Patator                      5931\n",
       "DoS slowloris                    5385\n",
       "DoS Slowhttptest                 5228\n",
       "SSH-Patator                      3219\n",
       "PortScan                         1956\n",
       "Web Attack � Brute Force         1470\n",
       "Bot                              1437\n",
       "Web Attack � XSS                  652\n",
       "Infiltration                       36\n",
       "Web Attack � Sql Injection         21\n",
       "Heartbleed                         11\n",
       "Name: count, dtype: int64"
      ]
     },
     "execution_count": 5,
     "metadata": {},
     "output_type": "execute_result"
    }
   ],
   "source": [
    "data['Label'].value_counts()"
   ]
  },
  {
   "cell_type": "code",
   "execution_count": 7,
   "id": "b94a5116-cbc4-4ea7-a0fa-f5b97339cd2f",
   "metadata": {},
   "outputs": [],
   "source": [
    "data['Label'] = data['Label'].str.lower()\n",
    "data['Label'] = data['Label'].str.strip()"
   ]
  },
  {
   "cell_type": "code",
   "execution_count": 8,
   "id": "6c642d24-d6d9-40c6-958b-347641eb56d7",
   "metadata": {},
   "outputs": [
    {
     "data": {
      "text/plain": [
       "Label\n",
       "benign                        1977318\n",
       "dos hulk                       172846\n",
       "ddos                           128014\n",
       "dos goldeneye                   10286\n",
       "ftp-patator                      5931\n",
       "dos slowloris                    5385\n",
       "dos slowhttptest                 5228\n",
       "ssh-patator                      3219\n",
       "portscan                         1956\n",
       "web attack � brute force         1470\n",
       "bot                              1437\n",
       "web attack � xss                  652\n",
       "infiltration                       36\n",
       "web attack � sql injection         21\n",
       "heartbleed                         11\n",
       "Name: count, dtype: int64"
      ]
     },
     "execution_count": 8,
     "metadata": {},
     "output_type": "execute_result"
    }
   ],
   "source": [
    "data['Label'].value_counts()"
   ]
  },
  {
   "cell_type": "code",
   "execution_count": 12,
   "id": "35ba095b-b56e-4866-a994-437d95e00c2c",
   "metadata": {},
   "outputs": [],
   "source": [
    "data['Label'] = data['Label'].apply(lambda x: x if x in ['benign' , 'dos hulk' , 'ddos' , 'dos goldeneye'] else 'other_attacks')"
   ]
  },
  {
   "cell_type": "code",
   "execution_count": 13,
   "id": "bdce4a71-f087-4ec3-a84f-af7f67e4040f",
   "metadata": {},
   "outputs": [
    {
     "data": {
      "text/plain": [
       "Label\n",
       "benign           1977318\n",
       "dos hulk          172846\n",
       "ddos              128014\n",
       "other_attacks      25346\n",
       "dos goldeneye      10286\n",
       "Name: count, dtype: int64"
      ]
     },
     "execution_count": 13,
     "metadata": {},
     "output_type": "execute_result"
    }
   ],
   "source": [
    "data['Label'].value_counts()"
   ]
  },
  {
   "cell_type": "code",
   "execution_count": 14,
   "id": "f9e209a2-897e-4fbc-ab9f-e7d2abfa073e",
   "metadata": {},
   "outputs": [
    {
     "data": {
      "text/plain": [
       "Index(['Protocol', 'Flow Duration', 'Total Fwd Packets',\n",
       "       'Total Backward Packets', 'Fwd Packets Length Total',\n",
       "       'Bwd Packets Length Total', 'Fwd Packet Length Max',\n",
       "       'Fwd Packet Length Min', 'Fwd Packet Length Mean',\n",
       "       'Fwd Packet Length Std', 'Bwd Packet Length Max',\n",
       "       'Bwd Packet Length Min', 'Bwd Packet Length Mean',\n",
       "       'Bwd Packet Length Std', 'Flow Bytes/s', 'Flow Packets/s',\n",
       "       'Flow IAT Mean', 'Flow IAT Std', 'Flow IAT Max', 'Flow IAT Min',\n",
       "       'Fwd IAT Total', 'Fwd IAT Mean', 'Fwd IAT Std', 'Fwd IAT Max',\n",
       "       'Fwd IAT Min', 'Bwd IAT Total', 'Bwd IAT Mean', 'Bwd IAT Std',\n",
       "       'Bwd IAT Max', 'Bwd IAT Min', 'Fwd PSH Flags', 'Bwd PSH Flags',\n",
       "       'Fwd URG Flags', 'Bwd URG Flags', 'Fwd Header Length',\n",
       "       'Bwd Header Length', 'Fwd Packets/s', 'Bwd Packets/s',\n",
       "       'Packet Length Min', 'Packet Length Max', 'Packet Length Mean',\n",
       "       'Packet Length Std', 'Packet Length Variance', 'FIN Flag Count',\n",
       "       'SYN Flag Count', 'RST Flag Count', 'PSH Flag Count', 'ACK Flag Count',\n",
       "       'URG Flag Count', 'CWE Flag Count', 'ECE Flag Count', 'Down/Up Ratio',\n",
       "       'Avg Packet Size', 'Avg Fwd Segment Size', 'Avg Bwd Segment Size',\n",
       "       'Fwd Avg Bytes/Bulk', 'Fwd Avg Packets/Bulk', 'Fwd Avg Bulk Rate',\n",
       "       'Bwd Avg Bytes/Bulk', 'Bwd Avg Packets/Bulk', 'Bwd Avg Bulk Rate',\n",
       "       'Subflow Fwd Packets', 'Subflow Fwd Bytes', 'Subflow Bwd Packets',\n",
       "       'Subflow Bwd Bytes', 'Init Fwd Win Bytes', 'Init Bwd Win Bytes',\n",
       "       'Fwd Act Data Packets', 'Fwd Seg Size Min', 'Active Mean', 'Active Std',\n",
       "       'Active Max', 'Active Min', 'Idle Mean', 'Idle Std', 'Idle Max',\n",
       "       'Idle Min', 'Label', 'label'],\n",
       "      dtype='object')"
      ]
     },
     "execution_count": 14,
     "metadata": {},
     "output_type": "execute_result"
    }
   ],
   "source": [
    "data.columns"
   ]
  },
  {
   "cell_type": "code",
   "execution_count": 16,
   "id": "a4cd286e-f36e-4698-b41f-19608f0a829c",
   "metadata": {},
   "outputs": [],
   "source": [
    "# Separate features and label\n",
    "#target_column = \"label\"  # Adjust if your dataset has a different target column\n",
    "X = data.drop(columns=[\"Label\", \"label\"])\n",
    "y = data[\"Label\"]\n",
    "\n",
    "# Encode categorical labels\n",
    "le = LabelEncoder()\n",
    "y = le.fit_transform(y)"
   ]
  },
  {
   "cell_type": "code",
   "execution_count": 17,
   "id": "b0dfdf12-ff3a-4cf4-920a-d19f4c2ac4a2",
   "metadata": {},
   "outputs": [
    {
     "data": {
      "text/plain": [
       "Index(['Protocol', 'Flow Duration', 'Total Fwd Packets',\n",
       "       'Total Backward Packets', 'Fwd Packets Length Total',\n",
       "       'Bwd Packets Length Total', 'Fwd Packet Length Max',\n",
       "       'Fwd Packet Length Min', 'Fwd Packet Length Mean',\n",
       "       'Fwd Packet Length Std', 'Bwd Packet Length Max',\n",
       "       'Bwd Packet Length Min', 'Bwd Packet Length Mean',\n",
       "       'Bwd Packet Length Std', 'Flow Bytes/s', 'Flow Packets/s',\n",
       "       'Flow IAT Mean', 'Flow IAT Std', 'Flow IAT Max', 'Flow IAT Min',\n",
       "       'Fwd IAT Total', 'Fwd IAT Mean', 'Fwd IAT Std', 'Fwd IAT Max',\n",
       "       'Fwd IAT Min', 'Bwd IAT Total', 'Bwd IAT Mean', 'Bwd IAT Std',\n",
       "       'Bwd IAT Max', 'Bwd IAT Min', 'Fwd PSH Flags', 'Bwd PSH Flags',\n",
       "       'Fwd URG Flags', 'Bwd URG Flags', 'Fwd Header Length',\n",
       "       'Bwd Header Length', 'Fwd Packets/s', 'Bwd Packets/s',\n",
       "       'Packet Length Min', 'Packet Length Max', 'Packet Length Mean',\n",
       "       'Packet Length Std', 'Packet Length Variance', 'FIN Flag Count',\n",
       "       'SYN Flag Count', 'RST Flag Count', 'PSH Flag Count', 'ACK Flag Count',\n",
       "       'URG Flag Count', 'CWE Flag Count', 'ECE Flag Count', 'Down/Up Ratio',\n",
       "       'Avg Packet Size', 'Avg Fwd Segment Size', 'Avg Bwd Segment Size',\n",
       "       'Fwd Avg Bytes/Bulk', 'Fwd Avg Packets/Bulk', 'Fwd Avg Bulk Rate',\n",
       "       'Bwd Avg Bytes/Bulk', 'Bwd Avg Packets/Bulk', 'Bwd Avg Bulk Rate',\n",
       "       'Subflow Fwd Packets', 'Subflow Fwd Bytes', 'Subflow Bwd Packets',\n",
       "       'Subflow Bwd Bytes', 'Init Fwd Win Bytes', 'Init Bwd Win Bytes',\n",
       "       'Fwd Act Data Packets', 'Fwd Seg Size Min', 'Active Mean', 'Active Std',\n",
       "       'Active Max', 'Active Min', 'Idle Mean', 'Idle Std', 'Idle Max',\n",
       "       'Idle Min'],\n",
       "      dtype='object')"
      ]
     },
     "execution_count": 17,
     "metadata": {},
     "output_type": "execute_result"
    }
   ],
   "source": [
    "X.columns"
   ]
  },
  {
   "cell_type": "code",
   "execution_count": 18,
   "id": "9e54ff52-a0fe-4ff0-9bd7-2f1014e7ae94",
   "metadata": {},
   "outputs": [
    {
     "data": {
      "text/html": [
       "<div>\n",
       "<style scoped>\n",
       "    .dataframe tbody tr th:only-of-type {\n",
       "        vertical-align: middle;\n",
       "    }\n",
       "\n",
       "    .dataframe tbody tr th {\n",
       "        vertical-align: top;\n",
       "    }\n",
       "\n",
       "    .dataframe thead th {\n",
       "        text-align: right;\n",
       "    }\n",
       "</style>\n",
       "<table border=\"1\" class=\"dataframe\">\n",
       "  <thead>\n",
       "    <tr style=\"text-align: right;\">\n",
       "      <th></th>\n",
       "      <th>Protocol</th>\n",
       "      <th>Flow Duration</th>\n",
       "      <th>Total Fwd Packets</th>\n",
       "      <th>Total Backward Packets</th>\n",
       "      <th>Fwd Packets Length Total</th>\n",
       "      <th>Bwd Packets Length Total</th>\n",
       "      <th>Fwd Packet Length Max</th>\n",
       "      <th>Fwd Packet Length Min</th>\n",
       "      <th>Fwd Packet Length Mean</th>\n",
       "      <th>Fwd Packet Length Std</th>\n",
       "      <th>...</th>\n",
       "      <th>Fwd Act Data Packets</th>\n",
       "      <th>Fwd Seg Size Min</th>\n",
       "      <th>Active Mean</th>\n",
       "      <th>Active Std</th>\n",
       "      <th>Active Max</th>\n",
       "      <th>Active Min</th>\n",
       "      <th>Idle Mean</th>\n",
       "      <th>Idle Std</th>\n",
       "      <th>Idle Max</th>\n",
       "      <th>Idle Min</th>\n",
       "    </tr>\n",
       "  </thead>\n",
       "  <tbody>\n",
       "    <tr>\n",
       "      <th>0</th>\n",
       "      <td>6</td>\n",
       "      <td>4</td>\n",
       "      <td>2</td>\n",
       "      <td>0</td>\n",
       "      <td>12</td>\n",
       "      <td>0</td>\n",
       "      <td>6</td>\n",
       "      <td>6</td>\n",
       "      <td>6.0</td>\n",
       "      <td>0.0</td>\n",
       "      <td>...</td>\n",
       "      <td>1</td>\n",
       "      <td>20</td>\n",
       "      <td>0.0</td>\n",
       "      <td>0.0</td>\n",
       "      <td>0</td>\n",
       "      <td>0</td>\n",
       "      <td>0.0</td>\n",
       "      <td>0.0</td>\n",
       "      <td>0</td>\n",
       "      <td>0</td>\n",
       "    </tr>\n",
       "    <tr>\n",
       "      <th>1</th>\n",
       "      <td>6</td>\n",
       "      <td>1</td>\n",
       "      <td>2</td>\n",
       "      <td>0</td>\n",
       "      <td>12</td>\n",
       "      <td>0</td>\n",
       "      <td>6</td>\n",
       "      <td>6</td>\n",
       "      <td>6.0</td>\n",
       "      <td>0.0</td>\n",
       "      <td>...</td>\n",
       "      <td>1</td>\n",
       "      <td>20</td>\n",
       "      <td>0.0</td>\n",
       "      <td>0.0</td>\n",
       "      <td>0</td>\n",
       "      <td>0</td>\n",
       "      <td>0.0</td>\n",
       "      <td>0.0</td>\n",
       "      <td>0</td>\n",
       "      <td>0</td>\n",
       "    </tr>\n",
       "  </tbody>\n",
       "</table>\n",
       "<p>2 rows × 77 columns</p>\n",
       "</div>"
      ],
      "text/plain": [
       "   Protocol  Flow Duration  Total Fwd Packets  Total Backward Packets  \\\n",
       "0         6              4                  2                       0   \n",
       "1         6              1                  2                       0   \n",
       "\n",
       "   Fwd Packets Length Total  Bwd Packets Length Total  Fwd Packet Length Max  \\\n",
       "0                        12                         0                      6   \n",
       "1                        12                         0                      6   \n",
       "\n",
       "   Fwd Packet Length Min  Fwd Packet Length Mean  Fwd Packet Length Std  ...  \\\n",
       "0                      6                     6.0                    0.0  ...   \n",
       "1                      6                     6.0                    0.0  ...   \n",
       "\n",
       "   Fwd Act Data Packets  Fwd Seg Size Min  Active Mean  Active Std  \\\n",
       "0                     1                20          0.0         0.0   \n",
       "1                     1                20          0.0         0.0   \n",
       "\n",
       "   Active Max  Active Min  Idle Mean  Idle Std  Idle Max  Idle Min  \n",
       "0           0           0        0.0       0.0         0         0  \n",
       "1           0           0        0.0       0.0         0         0  \n",
       "\n",
       "[2 rows x 77 columns]"
      ]
     },
     "execution_count": 18,
     "metadata": {},
     "output_type": "execute_result"
    }
   ],
   "source": [
    "X.head(2)"
   ]
  },
  {
   "cell_type": "code",
   "execution_count": 19,
   "id": "4c618230-c231-46b4-8648-be1b6607c9bd",
   "metadata": {},
   "outputs": [
    {
     "name": "stdout",
     "output_type": "stream",
     "text": [
      "Train shape: (1619667, 77)  Test shape: (694143, 77)\n"
     ]
    }
   ],
   "source": [
    "# Scale numeric features\n",
    "scaler = StandardScaler()\n",
    "X_scaled = scaler.fit_transform(X)\n",
    "\n",
    "# =============================\n",
    "# 3. Train-Test Split\n",
    "# =============================\n",
    "X_train, X_test, y_train, y_test = train_test_split(X_scaled, y, test_size=0.3, random_state=42, stratify=y)\n",
    "print(\"Train shape:\", X_train.shape, \" Test shape:\", X_test.shape)"
   ]
  },
  {
   "cell_type": "code",
   "execution_count": 20,
   "id": "55933629-f37d-4bd7-8555-266c324e625c",
   "metadata": {},
   "outputs": [
    {
     "name": "stdout",
     "output_type": "stream",
     "text": [
      "Training Logistic Regression...\n"
     ]
    },
    {
     "data": {
      "text/plain": [
       "'\\nprint(\"Training Random Forest...\")\\nfrom sklearn.ensemble import RandomForestClassifier\\nrf = RandomForestClassifier(n_estimators=100, random_state=42, n_jobs=-1)\\nrf.fit(X_train, y_train)\\ny_pred_rf = rf.predict(X_test)\\n'"
      ]
     },
     "execution_count": 20,
     "metadata": {},
     "output_type": "execute_result"
    }
   ],
   "source": [
    "print(\"Training Logistic Regression...\")\n",
    "from sklearn.linear_model import LogisticRegression\n",
    "log_reg = LogisticRegression(max_iter=500, n_jobs=-1)\n",
    "log_reg.fit(X_train, y_train)\n",
    "y_pred_lr = log_reg.predict(X_test)\n",
    "\n",
    "'''\n",
    "print(\"Training Random Forest...\")\n",
    "from sklearn.ensemble import RandomForestClassifier\n",
    "rf = RandomForestClassifier(n_estimators=100, random_state=42, n_jobs=-1)\n",
    "rf.fit(X_train, y_train)\n",
    "y_pred_rf = rf.predict(X_test)\n",
    "'''"
   ]
  },
  {
   "cell_type": "code",
   "execution_count": 22,
   "id": "1b491208-8c5e-4f3c-9d46-fe6d29ec90da",
   "metadata": {},
   "outputs": [
    {
     "name": "stdout",
     "output_type": "stream",
     "text": [
      "\n",
      "Model Performance:\n",
      "Accuracy: 0.9852393526982193\n",
      "Classification Report:\n",
      "               precision    recall  f1-score   support\n",
      "\n",
      "           0       1.00      0.99      0.99    599260\n",
      "           1       0.97      1.00      0.98     37467\n",
      "           2       0.85      0.97      0.90      2697\n",
      "           3       0.94      0.97      0.96     50342\n",
      "           4       0.52      0.91      0.66      4377\n",
      "\n",
      "    accuracy                           0.99    694143\n",
      "   macro avg       0.86      0.97      0.90    694143\n",
      "weighted avg       0.99      0.99      0.99    694143\n",
      "\n"
     ]
    }
   ],
   "source": [
    "print(\"\\nModel Performance:\")\n",
    "print(\"Accuracy:\", accuracy_score(y_pred_lr, y_test))\n",
    "print(\"Classification Report:\\n\", classification_report(y_pred_lr, y_test))"
   ]
  },
  {
   "cell_type": "code",
   "execution_count": null,
   "id": "35de361f-516f-40a3-b63b-55976eeb14f3",
   "metadata": {},
   "outputs": [],
   "source": []
  }
 ],
 "metadata": {
  "kernelspec": {
   "display_name": "Python 3 (ipykernel)",
   "language": "python",
   "name": "python3"
  },
  "language_info": {
   "codemirror_mode": {
    "name": "ipython",
    "version": 3
   },
   "file_extension": ".py",
   "mimetype": "text/x-python",
   "name": "python",
   "nbconvert_exporter": "python",
   "pygments_lexer": "ipython3",
   "version": "3.11.9"
  }
 },
 "nbformat": 4,
 "nbformat_minor": 5
}
